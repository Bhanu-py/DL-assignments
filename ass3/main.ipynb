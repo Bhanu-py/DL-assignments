{
 "cells": [
  {
   "cell_type": "code",
   "execution_count": 1,
   "metadata": {},
   "outputs": [],
   "source": [
    "import json\n",
    "import pandas as pd\n",
    "import re"
   ]
  },
  {
   "cell_type": "code",
   "execution_count": 2,
   "metadata": {},
   "outputs": [],
   "source": [
    "with open('data/review_553850.json') as f:\n",
    "    data = json.load(f)\n",
    "\n"
   ]
  },
  {
   "cell_type": "code",
   "execution_count": 3,
   "metadata": {},
   "outputs": [
    {
     "data": {
      "text/plain": [
       "{'recommendationid': '160675747',\n",
       " 'author': {'steamid': '76561199051671846',\n",
       "  'num_games_owned': 120,\n",
       "  'num_reviews': 26,\n",
       "  'playtime_forever': 1334,\n",
       "  'playtime_last_two_weeks': 1291,\n",
       "  'playtime_at_review': 1334,\n",
       "  'last_played': 1710604498},\n",
       " 'language': 'english',\n",
       " 'review': '↑→↓↓↓',\n",
       " 'timestamp_created': 1710601920,\n",
       " 'timestamp_updated': 1710601920,\n",
       " 'voted_up': True,\n",
       " 'votes_up': 0,\n",
       " 'votes_funny': 0,\n",
       " 'weighted_vote_score': 0,\n",
       " 'comment_count': 0,\n",
       " 'steam_purchase': False,\n",
       " 'received_for_free': False,\n",
       " 'written_during_early_access': False,\n",
       " 'hidden_in_steam_china': True,\n",
       " 'steam_china_location': ''}"
      ]
     },
     "execution_count": 3,
     "metadata": {},
     "output_type": "execute_result"
    }
   ],
   "source": [
    "data['reviews']['160675747']"
   ]
  },
  {
   "cell_type": "code",
   "execution_count": 4,
   "metadata": {},
   "outputs": [
    {
     "name": "stdout",
     "output_type": "stream",
     "text": [
      "['reviews', 'query_summary', 'cursors']\n",
      "['160675747', '160675705']\n",
      "['num_reviews', 'review_score']\n",
      "['AoJwoLGp1Y0DcpqF3AQ=']\n"
     ]
    }
   ],
   "source": [
    "# print few keys\n",
    "print(list(data.keys()))\n",
    "# print(data['reviews'].keys())\n",
    "# print few values in reviews\n",
    "print(list(data['reviews'])[:2])\n",
    "print(list(data['query_summary'])[:2])\n",
    "print(list(data['cursors'])[:2])\n"
   ]
  },
  {
   "cell_type": "markdown",
   "metadata": {},
   "source": [
    "# Checking the data structure of the dataset"
   ]
  },
  {
   "cell_type": "code",
   "execution_count": 6,
   "metadata": {},
   "outputs": [],
   "source": [
    "# Extract 'review' and 'votes_funny' from each review\n",
    "reviews = []\n",
    "votes_funny = []\n",
    "languages = []\n",
    "voted_up = []\n",
    "votes_up = []\n",
    "for review_id, review_data in data['reviews'].items():\n",
    "    reviews.append(review_data['review'])\n",
    "    votes_funny.append(review_data['votes_funny'])\n",
    "    languages.append(review_data['language'])\n",
    "    voted_up.append(review_data['voted_up'])\n",
    "    votes_up.append(review_data['votes_up'])"
   ]
  },
  {
   "cell_type": "markdown",
   "metadata": {},
   "source": [
    "We will check the data structure of the dataset to understand the data types of the columns and the number of missing values in each column. Also we are isolating the relavenat columns for the analysis. In this casem we are isolating the reviews of the game to determine if the revirews are positive or negative. If the reviews are helpful or not and finally if they are funny are not, also we chek the language of the reviews."
   ]
  },
  {
   "cell_type": "code",
   "execution_count": 8,
   "metadata": {},
   "outputs": [
    {
     "data": {
      "text/html": [
       "<div>\n",
       "<style scoped>\n",
       "    .dataframe tbody tr th:only-of-type {\n",
       "        vertical-align: middle;\n",
       "    }\n",
       "\n",
       "    .dataframe tbody tr th {\n",
       "        vertical-align: top;\n",
       "    }\n",
       "\n",
       "    .dataframe thead th {\n",
       "        text-align: right;\n",
       "    }\n",
       "</style>\n",
       "<table border=\"1\" class=\"dataframe\">\n",
       "  <thead>\n",
       "    <tr style=\"text-align: right;\">\n",
       "      <th></th>\n",
       "      <th>review</th>\n",
       "      <th>votes_funny</th>\n",
       "      <th>language</th>\n",
       "      <th>voted_up</th>\n",
       "      <th>votes_up</th>\n",
       "    </tr>\n",
       "  </thead>\n",
       "  <tbody>\n",
       "    <tr>\n",
       "      <th>0</th>\n",
       "      <td>↑→↓↓↓</td>\n",
       "      <td>0</td>\n",
       "      <td>english</td>\n",
       "      <td>True</td>\n",
       "      <td>0</td>\n",
       "    </tr>\n",
       "    <tr>\n",
       "      <th>1</th>\n",
       "      <td>Good fun Co Op, worth every penny.</td>\n",
       "      <td>0</td>\n",
       "      <td>english</td>\n",
       "      <td>True</td>\n",
       "      <td>0</td>\n",
       "    </tr>\n",
       "    <tr>\n",
       "      <th>2</th>\n",
       "      <td>Was a little skeptical at first, once i started playing, I loved it. If you wanna enjoy the game...</td>\n",
       "      <td>0</td>\n",
       "      <td>english</td>\n",
       "      <td>True</td>\n",
       "      <td>0</td>\n",
       "    </tr>\n",
       "    <tr>\n",
       "      <th>3</th>\n",
       "      <td>Very democratic</td>\n",
       "      <td>0</td>\n",
       "      <td>english</td>\n",
       "      <td>True</td>\n",
       "      <td>0</td>\n",
       "    </tr>\n",
       "    <tr>\n",
       "      <th>4</th>\n",
       "      <td>ALL FOR DEMOCRACY!!!!</td>\n",
       "      <td>0</td>\n",
       "      <td>english</td>\n",
       "      <td>True</td>\n",
       "      <td>0</td>\n",
       "    </tr>\n",
       "    <tr>\n",
       "      <th>...</th>\n",
       "      <td>...</td>\n",
       "      <td>...</td>\n",
       "      <td>...</td>\n",
       "      <td>...</td>\n",
       "      <td>...</td>\n",
       "    </tr>\n",
       "    <tr>\n",
       "      <th>189595</th>\n",
       "      <td>Can't even get past main loading screen anymore. 10/10 buy something else</td>\n",
       "      <td>0</td>\n",
       "      <td>english</td>\n",
       "      <td>False</td>\n",
       "      <td>0</td>\n",
       "    </tr>\n",
       "    <tr>\n",
       "      <th>189596</th>\n",
       "      <td>After multiple patches, the servers seem much more stable. I still get the occasional crash whic...</td>\n",
       "      <td>0</td>\n",
       "      <td>english</td>\n",
       "      <td>True</td>\n",
       "      <td>0</td>\n",
       "    </tr>\n",
       "    <tr>\n",
       "      <th>189597</th>\n",
       "      <td>Greattt</td>\n",
       "      <td>0</td>\n",
       "      <td>english</td>\n",
       "      <td>True</td>\n",
       "      <td>0</td>\n",
       "    </tr>\n",
       "    <tr>\n",
       "      <th>189598</th>\n",
       "      <td>everything is perfect</td>\n",
       "      <td>0</td>\n",
       "      <td>english</td>\n",
       "      <td>True</td>\n",
       "      <td>0</td>\n",
       "    </tr>\n",
       "    <tr>\n",
       "      <th>189599</th>\n",
       "      <td>SPREAD DEMOCRACY FOR SUPER EARTH!!!!</td>\n",
       "      <td>0</td>\n",
       "      <td>english</td>\n",
       "      <td>True</td>\n",
       "      <td>1</td>\n",
       "    </tr>\n",
       "  </tbody>\n",
       "</table>\n",
       "<p>189600 rows × 5 columns</p>\n",
       "</div>"
      ],
      "text/plain": [
       "                                                                                                     review  \\\n",
       "0                                                                                                     ↑→↓↓↓   \n",
       "1                                                                        Good fun Co Op, worth every penny.   \n",
       "2       Was a little skeptical at first, once i started playing, I loved it. If you wanna enjoy the game...   \n",
       "3                                                                                           Very democratic   \n",
       "4                                                                                     ALL FOR DEMOCRACY!!!!   \n",
       "...                                                                                                     ...   \n",
       "189595                            Can't even get past main loading screen anymore. 10/10 buy something else   \n",
       "189596  After multiple patches, the servers seem much more stable. I still get the occasional crash whic...   \n",
       "189597                                                                                              Greattt   \n",
       "189598                                                                                everything is perfect   \n",
       "189599                                                                 SPREAD DEMOCRACY FOR SUPER EARTH!!!!   \n",
       "\n",
       "        votes_funny language  voted_up  votes_up  \n",
       "0                 0  english      True         0  \n",
       "1                 0  english      True         0  \n",
       "2                 0  english      True         0  \n",
       "3                 0  english      True         0  \n",
       "4                 0  english      True         0  \n",
       "...             ...      ...       ...       ...  \n",
       "189595            0  english     False         0  \n",
       "189596            0  english      True         0  \n",
       "189597            0  english      True         0  \n",
       "189598            0  english      True         0  \n",
       "189599            0  english      True         1  \n",
       "\n",
       "[189600 rows x 5 columns]"
      ]
     },
     "execution_count": 8,
     "metadata": {},
     "output_type": "execute_result"
    }
   ],
   "source": [
    "\n",
    "# Make pandas dataframe\n",
    "pd.set_option('display.max_colwidth', 100)\n",
    "df = pd.DataFrame({'review': reviews, 'votes_funny': votes_funny, 'language': languages, 'voted_up': voted_up, 'votes_up': votes_up})\n",
    "df\n"
   ]
  },
  {
   "cell_type": "code",
   "execution_count": 9,
   "metadata": {},
   "outputs": [
    {
     "name": "stdout",
     "output_type": "stream",
     "text": [
      "language\n",
      "english    189600\n",
      "Name: count, dtype: int64\n",
      "voted_up\n",
      "True     165116\n",
      "False     24484\n",
      "Name: count, dtype: int64\n",
      "votes_up\n",
      "0       162159\n",
      "1        18754\n",
      "2         4252\n",
      "3         1574\n",
      "4          869\n",
      "         ...  \n",
      "393          1\n",
      "388          1\n",
      "186          1\n",
      "565          1\n",
      "4514         1\n",
      "Name: count, Length: 175, dtype: int64\n"
     ]
    }
   ],
   "source": [
    "# Counts of the seleced columns in the dataframe\n",
    "print(df['language'].value_counts())\n",
    "print(df['voted_up'].value_counts()) # 0 means negative review, 1 means positive review\n",
    "print(df['votes_up'].value_counts())  "
   ]
  },
  {
   "cell_type": "markdown",
   "metadata": {},
   "source": [
    "Based on the priliminary analysis of the selected variable we come to a conclusin that the are more positive revirews than negative reviews. The reviews are mostly not helpful and not funny. The reviews are all in English language."
   ]
  },
  {
   "cell_type": "markdown",
   "metadata": {},
   "source": [
    "# Checking for correlation between the features and the target variable "
   ]
  },
  {
   "cell_type": "code",
   "execution_count": 10,
   "metadata": {},
   "outputs": [
    {
     "data": {
      "image/png": "[encoded data removed]",
      "text/plain": [
       "<Figure size 500x500 with 6 Axes>"
      ]
     },
     "metadata": {},
     "output_type": "display_data"
    },
    {
     "data": {
      "image/png": "[encoded data removed]",
      "text/plain": [
       "<Figure size 500x500 with 6 Axes>"
      ]
     },
     "metadata": {},
     "output_type": "display_data"
    },
    {
     "name": "stdout",
     "output_type": "stream",
     "text": [
      "             votes_funny  votes_up\n",
      "votes_funny      1.00000   0.61078\n",
      "votes_up         0.61078   1.00000\n",
      "          voted_up  votes_up\n",
      "voted_up  1.000000 -0.013648\n",
      "votes_up -0.013648  1.000000\n"
     ]
    }
   ],
   "source": [
    "# Add the correlation plot between 'votes_funny' and 'votes_up' and 'voted_up' and 'votes_up'\n",
    "import matplotlib.pyplot as plt\n",
    "import seaborn as sns\n",
    "\n",
    "sns.pairplot(df[['votes_funny', 'votes_up']])\n",
    "plt.show()\n",
    "sns.pairplot(df[['voted_up', 'votes_up']])\n",
    "plt.show()\n",
    "\n",
    "# Add the correcation coefficient between 'votes_funny' and 'votes_up' and 'voted_up' and 'votes_up'\n",
    "print(df[['votes_funny', 'votes_up']].corr())\n",
    "print(df[['voted_up', 'votes_up']].corr())\n"
   ]
  },
  {
   "cell_type": "markdown",
   "metadata": {},
   "source": [
    "# **Cleaning**"
   ]
  },
  {
   "cell_type": "code",
   "execution_count": 11,
   "metadata": {},
   "outputs": [],
   "source": [
    "def clean_text(text):\n",
    "    # Remove emojis\n",
    "    emoji_pattern = re.compile(\"[\"\n",
    "                               u\"\\U0001F600-\\U0001F64F\"  # emoticons\n",
    "                               u\"\\U0001F300-\\U0001F5FF\"  # symbols & pictographs\n",
    "                               u\"\\U0001F680-\\U0001F6FF\"  # transport & map symbols\n",
    "                               u\"\\U0001F1E0-\\U0001F1FF\"  # flags (iOS)\n",
    "                               u\"\\U00002702-\\U000027B0\"\n",
    "                               u\"\\U000024C2-\\U0001F251\"\n",
    "                               \"]+\", flags=re.UNICODE)\n",
    "    text = emoji_pattern.sub(r'', text)\n",
    "    # remove new lines with a space\n",
    "    text = text.replace('\\n', ' ')\n",
    "\n",
    "    # Remove punctuation\n",
    "    text = re.sub(r'[^\\w\\s]', '', text)\n",
    "\n",
    "    # Convert to lower case\n",
    "    text = text.lower()\n",
    "\n",
    "    return text"
   ]
  },
  {
   "cell_type": "code",
   "execution_count": 12,
   "metadata": {},
   "outputs": [],
   "source": [
    "# Apply the cleaning function to each review\n",
    "df['review'] = df['review'].apply(clean_text)"
   ]
  },
  {
   "cell_type": "code",
   "execution_count": 13,
   "metadata": {},
   "outputs": [
    {
     "data": {
      "text/html": [
       "<div>\n",
       "<style scoped>\n",
       "    .dataframe tbody tr th:only-of-type {\n",
       "        vertical-align: middle;\n",
       "    }\n",
       "\n",
       "    .dataframe tbody tr th {\n",
       "        vertical-align: top;\n",
       "    }\n",
       "\n",
       "    .dataframe thead th {\n",
       "        text-align: right;\n",
       "    }\n",
       "</style>\n",
       "<table border=\"1\" class=\"dataframe\">\n",
       "  <thead>\n",
       "    <tr style=\"text-align: right;\">\n",
       "      <th></th>\n",
       "      <th>review</th>\n",
       "      <th>votes_funny</th>\n",
       "      <th>language</th>\n",
       "      <th>voted_up</th>\n",
       "      <th>votes_up</th>\n",
       "    </tr>\n",
       "  </thead>\n",
       "  <tbody>\n",
       "    <tr>\n",
       "      <th>0</th>\n",
       "      <td></td>\n",
       "      <td>0</td>\n",
       "      <td>english</td>\n",
       "      <td>True</td>\n",
       "      <td>0</td>\n",
       "    </tr>\n",
       "    <tr>\n",
       "      <th>1</th>\n",
       "      <td>good fun co op worth every penny</td>\n",
       "      <td>0</td>\n",
       "      <td>english</td>\n",
       "      <td>True</td>\n",
       "      <td>0</td>\n",
       "    </tr>\n",
       "    <tr>\n",
       "      <th>2</th>\n",
       "      <td>was a little skeptical at first once i started playing i loved it if you wanna enjoy the game to...</td>\n",
       "      <td>0</td>\n",
       "      <td>english</td>\n",
       "      <td>True</td>\n",
       "      <td>0</td>\n",
       "    </tr>\n",
       "    <tr>\n",
       "      <th>3</th>\n",
       "      <td>very democratic</td>\n",
       "      <td>0</td>\n",
       "      <td>english</td>\n",
       "      <td>True</td>\n",
       "      <td>0</td>\n",
       "    </tr>\n",
       "    <tr>\n",
       "      <th>4</th>\n",
       "      <td>all for democracy</td>\n",
       "      <td>0</td>\n",
       "      <td>english</td>\n",
       "      <td>True</td>\n",
       "      <td>0</td>\n",
       "    </tr>\n",
       "    <tr>\n",
       "      <th>...</th>\n",
       "      <td>...</td>\n",
       "      <td>...</td>\n",
       "      <td>...</td>\n",
       "      <td>...</td>\n",
       "      <td>...</td>\n",
       "    </tr>\n",
       "    <tr>\n",
       "      <th>189595</th>\n",
       "      <td>cant even get past main loading screen anymore 1010 buy something else</td>\n",
       "      <td>0</td>\n",
       "      <td>english</td>\n",
       "      <td>False</td>\n",
       "      <td>0</td>\n",
       "    </tr>\n",
       "    <tr>\n",
       "      <th>189596</th>\n",
       "      <td>after multiple patches the servers seem much more stable i still get the occasional crash which ...</td>\n",
       "      <td>0</td>\n",
       "      <td>english</td>\n",
       "      <td>True</td>\n",
       "      <td>0</td>\n",
       "    </tr>\n",
       "    <tr>\n",
       "      <th>189597</th>\n",
       "      <td>greattt</td>\n",
       "      <td>0</td>\n",
       "      <td>english</td>\n",
       "      <td>True</td>\n",
       "      <td>0</td>\n",
       "    </tr>\n",
       "    <tr>\n",
       "      <th>189598</th>\n",
       "      <td>everything is perfect</td>\n",
       "      <td>0</td>\n",
       "      <td>english</td>\n",
       "      <td>True</td>\n",
       "      <td>0</td>\n",
       "    </tr>\n",
       "    <tr>\n",
       "      <th>189599</th>\n",
       "      <td>spread democracy for super earth</td>\n",
       "      <td>0</td>\n",
       "      <td>english</td>\n",
       "      <td>True</td>\n",
       "      <td>1</td>\n",
       "    </tr>\n",
       "  </tbody>\n",
       "</table>\n",
       "<p>189600 rows × 5 columns</p>\n",
       "</div>"
      ],
      "text/plain": [
       "                                                                                                     review  \\\n",
       "0                                                                                                             \n",
       "1                                                                          good fun co op worth every penny   \n",
       "2       was a little skeptical at first once i started playing i loved it if you wanna enjoy the game to...   \n",
       "3                                                                                           very democratic   \n",
       "4                                                                                         all for democracy   \n",
       "...                                                                                                     ...   \n",
       "189595                               cant even get past main loading screen anymore 1010 buy something else   \n",
       "189596  after multiple patches the servers seem much more stable i still get the occasional crash which ...   \n",
       "189597                                                                                              greattt   \n",
       "189598                                                                                everything is perfect   \n",
       "189599                                                                     spread democracy for super earth   \n",
       "\n",
       "        votes_funny language  voted_up  votes_up  \n",
       "0                 0  english      True         0  \n",
       "1                 0  english      True         0  \n",
       "2                 0  english      True         0  \n",
       "3                 0  english      True         0  \n",
       "4                 0  english      True         0  \n",
       "...             ...      ...       ...       ...  \n",
       "189595            0  english     False         0  \n",
       "189596            0  english      True         0  \n",
       "189597            0  english      True         0  \n",
       "189598            0  english      True         0  \n",
       "189599            0  english      True         1  \n",
       "\n",
       "[189600 rows x 5 columns]"
      ]
     },
     "execution_count": 13,
     "metadata": {},
     "output_type": "execute_result"
    }
   ],
   "source": [
    "df"
   ]
  },
  {
   "cell_type": "markdown",
   "metadata": {},
   "source": [
    "# Checking for missing values in the dataset"
   ]
  },
  {
   "cell_type": "code",
   "execution_count": 14,
   "metadata": {},
   "outputs": [
    {
     "name": "stdout",
     "output_type": "stream",
     "text": [
      "review         0\n",
      "votes_funny    0\n",
      "language       0\n",
      "voted_up       0\n",
      "votes_up       0\n",
      "dtype: int64 \n",
      "\n",
      "review         0\n",
      "votes_funny    0\n",
      "language       0\n",
      "voted_up       0\n",
      "votes_up       0\n",
      "dtype: int64 \n",
      "\n"
     ]
    }
   ],
   "source": [
    "# Check for empty sting or null values in each column and giving the count\n",
    "print(df.isnull().sum(), '\\n')\n",
    "\n",
    "print(df.isna().sum(), '\\n')\n"
   ]
  },
  {
   "cell_type": "markdown",
   "metadata": {},
   "source": [
    "# Check if the reviews does not contain have alphanumeric characters"
   ]
  },
  {
   "cell_type": "code",
   "execution_count": 15,
   "metadata": {},
   "outputs": [
    {
     "data": {
      "text/html": [
       "<div>\n",
       "<style scoped>\n",
       "    .dataframe tbody tr th:only-of-type {\n",
       "        vertical-align: middle;\n",
       "    }\n",
       "\n",
       "    .dataframe tbody tr th {\n",
       "        vertical-align: top;\n",
       "    }\n",
       "\n",
       "    .dataframe thead th {\n",
       "        text-align: right;\n",
       "    }\n",
       "</style>\n",
       "<table border=\"1\" class=\"dataframe\">\n",
       "  <thead>\n",
       "    <tr style=\"text-align: right;\">\n",
       "      <th></th>\n",
       "      <th>review</th>\n",
       "      <th>votes_funny</th>\n",
       "      <th>language</th>\n",
       "      <th>voted_up</th>\n",
       "      <th>votes_up</th>\n",
       "    </tr>\n",
       "  </thead>\n",
       "  <tbody>\n",
       "    <tr>\n",
       "      <th>0</th>\n",
       "      <td></td>\n",
       "      <td>0</td>\n",
       "      <td>english</td>\n",
       "      <td>True</td>\n",
       "      <td>0</td>\n",
       "    </tr>\n",
       "    <tr>\n",
       "      <th>272</th>\n",
       "      <td></td>\n",
       "      <td>0</td>\n",
       "      <td>english</td>\n",
       "      <td>True</td>\n",
       "      <td>0</td>\n",
       "    </tr>\n",
       "    <tr>\n",
       "      <th>333</th>\n",
       "      <td></td>\n",
       "      <td>0</td>\n",
       "      <td>english</td>\n",
       "      <td>True</td>\n",
       "      <td>0</td>\n",
       "    </tr>\n",
       "    <tr>\n",
       "      <th>601</th>\n",
       "      <td></td>\n",
       "      <td>0</td>\n",
       "      <td>english</td>\n",
       "      <td>True</td>\n",
       "      <td>0</td>\n",
       "    </tr>\n",
       "    <tr>\n",
       "      <th>611</th>\n",
       "      <td></td>\n",
       "      <td>0</td>\n",
       "      <td>english</td>\n",
       "      <td>True</td>\n",
       "      <td>0</td>\n",
       "    </tr>\n",
       "    <tr>\n",
       "      <th>...</th>\n",
       "      <td>...</td>\n",
       "      <td>...</td>\n",
       "      <td>...</td>\n",
       "      <td>...</td>\n",
       "      <td>...</td>\n",
       "    </tr>\n",
       "    <tr>\n",
       "      <th>189275</th>\n",
       "      <td></td>\n",
       "      <td>0</td>\n",
       "      <td>english</td>\n",
       "      <td>True</td>\n",
       "      <td>0</td>\n",
       "    </tr>\n",
       "    <tr>\n",
       "      <th>189343</th>\n",
       "      <td></td>\n",
       "      <td>3</td>\n",
       "      <td>english</td>\n",
       "      <td>True</td>\n",
       "      <td>0</td>\n",
       "    </tr>\n",
       "    <tr>\n",
       "      <th>189476</th>\n",
       "      <td></td>\n",
       "      <td>0</td>\n",
       "      <td>english</td>\n",
       "      <td>True</td>\n",
       "      <td>0</td>\n",
       "    </tr>\n",
       "    <tr>\n",
       "      <th>189484</th>\n",
       "      <td></td>\n",
       "      <td>0</td>\n",
       "      <td>english</td>\n",
       "      <td>True</td>\n",
       "      <td>0</td>\n",
       "    </tr>\n",
       "    <tr>\n",
       "      <th>189529</th>\n",
       "      <td></td>\n",
       "      <td>0</td>\n",
       "      <td>english</td>\n",
       "      <td>True</td>\n",
       "      <td>0</td>\n",
       "    </tr>\n",
       "  </tbody>\n",
       "</table>\n",
       "<p>1771 rows × 5 columns</p>\n",
       "</div>"
      ],
      "text/plain": [
       "       review  votes_funny language  voted_up  votes_up\n",
       "0                        0  english      True         0\n",
       "272                      0  english      True         0\n",
       "333                      0  english      True         0\n",
       "601                      0  english      True         0\n",
       "611                      0  english      True         0\n",
       "...       ...          ...      ...       ...       ...\n",
       "189275                   0  english      True         0\n",
       "189343                   3  english      True         0\n",
       "189476                   0  english      True         0\n",
       "189484                   0  english      True         0\n",
       "189529                   0  english      True         0\n",
       "\n",
       "[1771 rows x 5 columns]"
      ]
     },
     "execution_count": 15,
     "metadata": {},
     "output_type": "execute_result"
    }
   ],
   "source": [
    "# check if the review doesnot contain any text or alphabets or numbers\n",
    "df[df['review'].apply(lambda x: not any([a.isalnum() for a in x]))]"
   ]
  },
  {
   "cell_type": "markdown",
   "metadata": {},
   "source": [
    "# Drop the rows that doesn't have any valid reviews"
   ]
  },
  {
   "cell_type": "code",
   "execution_count": 16,
   "metadata": {},
   "outputs": [],
   "source": [
    "# drop the rows\n",
    "df = df.drop(df[df['review'].apply(lambda x: not any([a.isalnum() for a in x]))].index)"
   ]
  },
  {
   "cell_type": "code",
   "execution_count": 17,
   "metadata": {},
   "outputs": [
    {
     "data": {
      "text/html": [
       "<div>\n",
       "<style scoped>\n",
       "    .dataframe tbody tr th:only-of-type {\n",
       "        vertical-align: middle;\n",
       "    }\n",
       "\n",
       "    .dataframe tbody tr th {\n",
       "        vertical-align: top;\n",
       "    }\n",
       "\n",
       "    .dataframe thead th {\n",
       "        text-align: right;\n",
       "    }\n",
       "</style>\n",
       "<table border=\"1\" class=\"dataframe\">\n",
       "  <thead>\n",
       "    <tr style=\"text-align: right;\">\n",
       "      <th></th>\n",
       "      <th>review</th>\n",
       "      <th>votes_funny</th>\n",
       "      <th>language</th>\n",
       "      <th>voted_up</th>\n",
       "      <th>votes_up</th>\n",
       "    </tr>\n",
       "  </thead>\n",
       "  <tbody>\n",
       "  </tbody>\n",
       "</table>\n",
       "</div>"
      ],
      "text/plain": [
       "Empty DataFrame\n",
       "Columns: [review, votes_funny, language, voted_up, votes_up]\n",
       "Index: []"
      ]
     },
     "execution_count": 17,
     "metadata": {},
     "output_type": "execute_result"
    }
   ],
   "source": [
    "df[df['review'].apply(lambda x: not any([a.isalnum() for a in x]))]"
   ]
  },
  {
   "cell_type": "markdown",
   "metadata": {},
   "source": [
    "The rows have been dropped and the dataset is now clean and ready for analysis."
   ]
  },
  {
   "cell_type": "markdown",
   "metadata": {},
   "source": [
    "# Checking the distribution of the target variable"
   ]
  },
  {
   "cell_type": "code",
   "execution_count": 18,
   "metadata": {},
   "outputs": [
    {
     "data": {
      "text/plain": [
       "<Axes: ylabel='Frequency'>"
      ]
     },
     "execution_count": 18,
     "metadata": {},
     "output_type": "execute_result"
    },
    {
     "data": {
      "image/png": "[encoded data removed]",
      "text/plain": [
       "<Figure size 640x480 with 1 Axes>"
      ]
     },
     "metadata": {},
     "output_type": "display_data"
    }
   ],
   "source": [
    "df['votes_funny'].plot(kind='hist', bins=100, ylim=(0, 1000))"
   ]
  },
  {
   "cell_type": "code",
   "execution_count": 19,
   "metadata": {},
   "outputs": [
    {
     "data": {
      "text/plain": [
       "label\n",
       "0    181472\n",
       "1      6357\n",
       "Name: count, dtype: int64"
      ]
     },
     "execution_count": 19,
     "metadata": {},
     "output_type": "execute_result"
    }
   ],
   "source": [
    "# label 1 if votes_funny is greater than 0, else 0\n",
    "df['label'] = (df['votes_funny'] > 0).astype(int)\n",
    "df['label'].value_counts()"
   ]
  },
  {
   "cell_type": "markdown",
   "metadata": {},
   "source": [
    "Since the target variable is heavily imbalanced, converting the target variable to a binary variable. If the review is funny, it is considered as 1 and if the review is not funny, it is considered as 0."
   ]
  },
  {
   "cell_type": "code",
   "execution_count": 20,
   "metadata": {},
   "outputs": [
    {
     "data": {
      "text/plain": [
       "label\n",
       "0    181472\n",
       "1      6357\n",
       "Name: count, dtype: int64"
      ]
     },
     "execution_count": 20,
     "metadata": {},
     "output_type": "execute_result"
    }
   ],
   "source": [
    "df['label'] = df['votes_funny'].apply(lambda x: 1 if x > 0 else 0)\n",
    "df['label'].value_counts()"
   ]
  },
  {
   "cell_type": "markdown",
   "metadata": {},
   "source": [
    "# Checking the correlation between the features and the target variable"
   ]
  },
  {
   "cell_type": "code",
   "execution_count": 21,
   "metadata": {},
   "outputs": [
    {
     "name": "stdout",
     "output_type": "stream",
     "text": [
      "          voted_up     label\n",
      "voted_up  1.000000 -0.119071\n",
      "label    -0.119071  1.000000\n",
      "          votes_up     label\n",
      "votes_up  1.000000  0.053548\n",
      "label     0.053548  1.000000\n"
     ]
    }
   ],
   "source": [
    "## Checking the correlation between the features and the target variable\n",
    "print(df[['voted_up', 'label']].corr())\n",
    "print(df[['votes_up', 'label']].corr())"
   ]
  },
  {
   "cell_type": "code",
   "execution_count": 22,
   "metadata": {},
   "outputs": [
    {
     "data": {
      "text/plain": [
       "label\n",
       "0    181472\n",
       "1      6357\n",
       "Name: count, dtype: int64"
      ]
     },
     "execution_count": 22,
     "metadata": {},
     "output_type": "execute_result"
    }
   ],
   "source": [
    "df['label'].value_counts()"
   ]
  },
  {
   "cell_type": "markdown",
   "metadata": {},
   "source": [
    "Even after converting the target variable to a binary variable, the target variable is still imbalanced. So considering the reviews that are helpful and not helpful to fliter out the reviews that are not funny, to reduce the imbalance in the target variable."
   ]
  },
  {
   "cell_type": "markdown",
   "metadata": {},
   "source": [
    "# Keeping only the reviwes that are helpful in the reviews that are not funny"
   ]
  },
  {
   "cell_type": "code",
   "execution_count": 23,
   "metadata": {},
   "outputs": [],
   "source": [
    "df1 = df.copy()"
   ]
  },
  {
   "cell_type": "code",
   "execution_count": 26,
   "metadata": {},
   "outputs": [
    {
     "data": {
      "text/plain": [
       "label\n",
       "0    24162\n",
       "1     6357\n",
       "Name: count, dtype: int64"
      ]
     },
     "execution_count": 26,
     "metadata": {},
     "output_type": "execute_result"
    }
   ],
   "source": [
    "# remove the reviews which are not helpful and label = 0\n",
    "df = df.drop(df[(df['votes_up'] == 0) & (df['label'] == 0)].index)\n",
    "df['label'].value_counts()"
   ]
  },
  {
   "cell_type": "code",
   "execution_count": 34,
   "metadata": {},
   "outputs": [
    {
     "data": {
      "text/plain": [
       "label\n",
       "0    24162\n",
       "1     6357\n",
       "Name: count, dtype: int64"
      ]
     },
     "execution_count": 34,
     "metadata": {},
     "output_type": "execute_result"
    }
   ],
   "source": [
    "df = df[['review', 'label']]\n",
    "df['label'].value_counts()"
   ]
  },
  {
   "cell_type": "code",
   "execution_count": 43,
   "metadata": {},
   "outputs": [
    {
     "data": {
      "text/html": [
       "<div>\n",
       "<style scoped>\n",
       "    .dataframe tbody tr th:only-of-type {\n",
       "        vertical-align: middle;\n",
       "    }\n",
       "\n",
       "    .dataframe tbody tr th {\n",
       "        vertical-align: top;\n",
       "    }\n",
       "\n",
       "    .dataframe thead th {\n",
       "        text-align: right;\n",
       "    }\n",
       "</style>\n",
       "<table border=\"1\" class=\"dataframe\">\n",
       "  <thead>\n",
       "    <tr style=\"text-align: right;\">\n",
       "      <th></th>\n",
       "      <th>review</th>\n",
       "      <th>label</th>\n",
       "    </tr>\n",
       "  </thead>\n",
       "  <tbody>\n",
       "    <tr>\n",
       "      <th>19</th>\n",
       "      <td>shoot gun kill bug kill robot unlock bigger gun shoot bigger bug shoot bigger robot fun</td>\n",
       "      <td>0</td>\n",
       "    </tr>\n",
       "    <tr>\n",
       "      <th>38</th>\n",
       "      <td>for god sake i need help in malevolent creek guys</td>\n",
       "      <td>0</td>\n",
       "    </tr>\n",
       "    <tr>\n",
       "      <th>44</th>\n",
       "      <td>this comment was redacted as it was too undemocratic to the super earth cause</td>\n",
       "      <td>0</td>\n",
       "    </tr>\n",
       "    <tr>\n",
       "      <th>65</th>\n",
       "      <td>only the best for super earth im doing my part even if im using a lowend laptop my life for libe...</td>\n",
       "      <td>1</td>\n",
       "    </tr>\n",
       "    <tr>\n",
       "      <th>68</th>\n",
       "      <td>having fun   definitely worth the asking price   if you enjoyed the first game youll like this o...</td>\n",
       "      <td>0</td>\n",
       "    </tr>\n",
       "    <tr>\n",
       "      <th>...</th>\n",
       "      <td>...</td>\n",
       "      <td>...</td>\n",
       "    </tr>\n",
       "    <tr>\n",
       "      <th>189569</th>\n",
       "      <td>for freedom liberty an democracy all in the name for super earth</td>\n",
       "      <td>0</td>\n",
       "    </tr>\n",
       "    <tr>\n",
       "      <th>189574</th>\n",
       "      <td>im doing my part</td>\n",
       "      <td>0</td>\n",
       "    </tr>\n",
       "    <tr>\n",
       "      <th>189584</th>\n",
       "      <td>for freedom for democracy for prosperity for super earth for liberteaaaa</td>\n",
       "      <td>1</td>\n",
       "    </tr>\n",
       "    <tr>\n",
       "      <th>189594</th>\n",
       "      <td>hey do you want a game that you can actually play go somewhere else legit anywhere else this gam...</td>\n",
       "      <td>1</td>\n",
       "    </tr>\n",
       "    <tr>\n",
       "      <th>189599</th>\n",
       "      <td>spread democracy for super earth</td>\n",
       "      <td>0</td>\n",
       "    </tr>\n",
       "  </tbody>\n",
       "</table>\n",
       "<p>30519 rows × 2 columns</p>\n",
       "</div>"
      ],
      "text/plain": [
       "                                                                                                     review  \\\n",
       "19                  shoot gun kill bug kill robot unlock bigger gun shoot bigger bug shoot bigger robot fun   \n",
       "38                                                        for god sake i need help in malevolent creek guys   \n",
       "44                            this comment was redacted as it was too undemocratic to the super earth cause   \n",
       "65      only the best for super earth im doing my part even if im using a lowend laptop my life for libe...   \n",
       "68      having fun   definitely worth the asking price   if you enjoyed the first game youll like this o...   \n",
       "...                                                                                                     ...   \n",
       "189569                                     for freedom liberty an democracy all in the name for super earth   \n",
       "189574                                                                                     im doing my part   \n",
       "189584                            for freedom for democracy for prosperity for super earth for liberteaaaa    \n",
       "189594  hey do you want a game that you can actually play go somewhere else legit anywhere else this gam...   \n",
       "189599                                                                     spread democracy for super earth   \n",
       "\n",
       "        label  \n",
       "19          0  \n",
       "38          0  \n",
       "44          0  \n",
       "65          1  \n",
       "68          0  \n",
       "...       ...  \n",
       "189569      0  \n",
       "189574      0  \n",
       "189584      1  \n",
       "189594      1  \n",
       "189599      0  \n",
       "\n",
       "[30519 rows x 2 columns]"
      ]
     },
     "execution_count": 43,
     "metadata": {},
     "output_type": "execute_result"
    }
   ],
   "source": [
    "df"
   ]
  },
  {
   "cell_type": "code",
   "execution_count": 38,
   "metadata": {},
   "outputs": [],
   "source": [
    "# Split the data into train and test\n",
    "from sklearn.model_selection import train_test_split\n",
    "\n",
    "X_train, X_test, y_train, y_test = train_test_split(df['review'], df['label'], test_size=0.2, random_state=42)"
   ]
  },
  {
   "cell_type": "code",
   "execution_count": 41,
   "metadata": {},
   "outputs": [
    {
     "data": {
      "text/plain": [
       "label\n",
       "0    19332\n",
       "1     5083\n",
       "Name: count, dtype: int64"
      ]
     },
     "execution_count": 41,
     "metadata": {},
     "output_type": "execute_result"
    }
   ],
   "source": [
    "y_train.value_counts()"
   ]
  },
  {
   "cell_type": "markdown",
   "metadata": {},
   "source": [
    "# **JUST CHECKING TEST DATA!**\n",
    "# **NO MANIPULATION**"
   ]
  },
  {
   "cell_type": "code",
   "execution_count": 42,
   "metadata": {},
   "outputs": [
    {
     "data": {
      "text/plain": [
       "label\n",
       "0    4830\n",
       "1    1274\n",
       "Name: count, dtype: int64"
      ]
     },
     "execution_count": 42,
     "metadata": {},
     "output_type": "execute_result"
    }
   ],
   "source": [
    "y_test.value_counts()"
   ]
  },
  {
   "cell_type": "markdown",
   "metadata": {},
   "source": [
    "# Balancing the target variable with NLP balancing techniques\n"
   ]
  },
  {
   "cell_type": "code",
   "execution_count": null,
   "metadata": {},
   "outputs": [],
   "source": [
    "# Balancing the target variable with NLP balancing techniques\n"
   ]
  },
  {
   "cell_type": "markdown",
   "metadata": {},
   "source": [
    "# Preprocessing"
   ]
  },
  {
   "cell_type": "code",
   "execution_count": 44,
   "metadata": {},
   "outputs": [
    {
     "name": "stdout",
     "output_type": "stream",
     "text": [
      "WARNING:tensorflow:From e:\\Mstat\\Deep_Learning\\assignments\\DL-assignments\\.venv\\lib\\site-packages\\keras\\src\\losses.py:2976: The name tf.losses.sparse_softmax_cross_entropy is deprecated. Please use tf.compat.v1.losses.sparse_softmax_cross_entropy instead.\n",
      "\n"
     ]
    }
   ],
   "source": [
    "from keras.preprocessing.text import Tokenizer\n",
    "from keras.preprocessing.sequence import pad_sequences\n",
    "\n",
    "# Tokenize the text\n",
    "tokenizer = Tokenizer(num_words=10000)  # Use the 10,000 most common words\n",
    "tokenizer.fit_on_texts(df['review'])\n",
    "sequences = tokenizer.texts_to_sequences(df['review'])\n",
    "\n",
    "# Pad the sequences\n",
    "padded_sequences = pad_sequences(sequences, maxlen=100)  # Make all reviews 100 words long\n",
    "\n",
    "# Now 'padded_sequences' is a 2D array containing your preprocessed text data"
   ]
  },
  {
   "cell_type": "code",
   "execution_count": 45,
   "metadata": {},
   "outputs": [
    {
     "name": "stdout",
     "output_type": "stream",
     "text": [
      "WARNING:tensorflow:From e:\\Mstat\\Deep_Learning\\assignments\\DL-assignments\\.venv\\lib\\site-packages\\keras\\src\\backend.py:873: The name tf.get_default_graph is deprecated. Please use tf.compat.v1.get_default_graph instead.\n",
      "\n",
      "WARNING:tensorflow:From e:\\Mstat\\Deep_Learning\\assignments\\DL-assignments\\.venv\\lib\\site-packages\\keras\\src\\optimizers\\__init__.py:309: The name tf.train.Optimizer is deprecated. Please use tf.compat.v1.train.Optimizer instead.\n",
      "\n",
      "Epoch 1/10\n",
      "WARNING:tensorflow:From e:\\Mstat\\Deep_Learning\\assignments\\DL-assignments\\.venv\\lib\\site-packages\\keras\\src\\utils\\tf_utils.py:492: The name tf.ragged.RaggedTensorValue is deprecated. Please use tf.compat.v1.ragged.RaggedTensorValue instead.\n",
      "\n",
      "WARNING:tensorflow:From e:\\Mstat\\Deep_Learning\\assignments\\DL-assignments\\.venv\\lib\\site-packages\\keras\\src\\engine\\base_layer_utils.py:384: The name tf.executing_eagerly_outside_functions is deprecated. Please use tf.compat.v1.executing_eagerly_outside_functions instead.\n",
      "\n",
      "153/153 [==============================] - 6s 20ms/step - loss: 0.5186 - accuracy: 0.7920 - val_loss: 0.5201 - val_accuracy: 0.7835\n",
      "Epoch 2/10\n",
      "153/153 [==============================] - 3s 18ms/step - loss: 0.5027 - accuracy: 0.7938 - val_loss: 0.5119 - val_accuracy: 0.7835\n",
      "Epoch 3/10\n",
      "153/153 [==============================] - 3s 18ms/step - loss: 0.4925 - accuracy: 0.7940 - val_loss: 0.5070 - val_accuracy: 0.7864\n",
      "Epoch 4/10\n",
      "153/153 [==============================] - 3s 18ms/step - loss: 0.4838 - accuracy: 0.7959 - val_loss: 0.5110 - val_accuracy: 0.7870\n",
      "Epoch 5/10\n",
      "153/153 [==============================] - 3s 19ms/step - loss: 0.4755 - accuracy: 0.7972 - val_loss: 0.5124 - val_accuracy: 0.7860\n",
      "Epoch 6/10\n",
      "153/153 [==============================] - 3s 18ms/step - loss: 0.4657 - accuracy: 0.8003 - val_loss: 0.5176 - val_accuracy: 0.7811\n",
      "Epoch 7/10\n",
      "153/153 [==============================] - 3s 19ms/step - loss: 0.4554 - accuracy: 0.8043 - val_loss: 0.5255 - val_accuracy: 0.7790\n",
      "Epoch 8/10\n",
      "153/153 [==============================] - 3s 18ms/step - loss: 0.4424 - accuracy: 0.8112 - val_loss: 0.5390 - val_accuracy: 0.7741\n",
      "Epoch 9/10\n",
      "153/153 [==============================] - 3s 19ms/step - loss: 0.4288 - accuracy: 0.8173 - val_loss: 0.5448 - val_accuracy: 0.7629\n",
      "Epoch 10/10\n",
      "153/153 [==============================] - 3s 19ms/step - loss: 0.4152 - accuracy: 0.8239 - val_loss: 0.5547 - val_accuracy: 0.7573\n",
      "191/191 [==============================] - 1s 4ms/step - loss: 0.5379 - accuracy: 0.7680\n",
      "Test accuracy: 0.7680209875106812\n"
     ]
    }
   ],
   "source": [
    "from keras.models import Sequential\n",
    "from keras.layers import Embedding, LSTM, Dense\n",
    "from sklearn.model_selection import train_test_split\n",
    "\n",
    "# Split the data\n",
    "X_train, X_test, y_train, y_test = train_test_split(padded_sequences, df['label'], test_size=0.2, random_state=42)\n",
    "\n",
    "# Build the model\n",
    "model = Sequential()\n",
    "model.add(Embedding(10000, 32, input_length=100))\n",
    "model.add(LSTM(32))\n",
    "model.add(Dense(1, activation='sigmoid'))\n",
    "\n",
    "# Compile the model\n",
    "model.compile(optimizer='rmsprop', loss='binary_crossentropy', metrics=['accuracy'])\n",
    "\n",
    "# Train the model\n",
    "history = model.fit(X_train, y_train, epochs=10, batch_size=128, validation_split=0.2)\n",
    "\n",
    "# Evaluate the model\n",
    "test_loss, test_acc = model.evaluate(X_test, y_test)\n",
    "print('Test accuracy:', test_acc)"
   ]
  },
  {
   "cell_type": "code",
   "execution_count": 50,
   "metadata": {},
   "outputs": [
    {
     "name": "stdout",
     "output_type": "stream",
     "text": [
      "{}\n"
     ]
    }
   ],
   "source": [
    "print(history.history)"
   ]
  },
  {
   "cell_type": "code",
   "execution_count": 49,
   "metadata": {},
   "outputs": [
    {
     "data": {
      "text/plain": [
       "dict_keys([])"
      ]
     },
     "execution_count": 49,
     "metadata": {},
     "output_type": "execute_result"
    }
   ],
   "source": [
    "# check if the model is overfitting\n",
    "import matplotlib.pyplot as plt\n",
    "\n",
    "history = model.history\n",
    "history\n",
    "\n",
    "history.history.keys()"
   ]
  }
 ],
 "metadata": {
  "kernelspec": {
   "display_name": ".venv",
   "language": "python",
   "name": "python3"
  },
  "language_info": {
   "codemirror_mode": {
    "name": "ipython",
    "version": 3
   },
   "file_extension": ".py",
   "mimetype": "text/x-python",
   "name": "python",
   "nbconvert_exporter": "python",
   "pygments_lexer": "ipython3",
   "version": "3.9.13"
  }
 },
 "nbformat": 4,
 "nbformat_minor": 2
}
