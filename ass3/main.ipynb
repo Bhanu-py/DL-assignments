{
 "cells": [
  {
   "cell_type": "code",
   "execution_count": 25,
   "metadata": {},
   "outputs": [],
   "source": [
    "import json\n",
    "import pandas as pd\n",
    "import re"
   ]
  },
  {
   "cell_type": "code",
   "execution_count": 2,
   "metadata": {},
   "outputs": [],
   "source": [
    "with open('data/review_553850.json') as f:\n",
    "    data = json.load(f)\n",
    "\n"
   ]
  },
  {
   "cell_type": "code",
   "execution_count": 8,
   "metadata": {},
   "outputs": [
    {
     "name": "stdout",
     "output_type": "stream",
     "text": [
      "['reviews', 'query_summary', 'cursors']\n",
      "['160675747', '160675705']\n",
      "['num_reviews', 'review_score']\n",
      "['AoJwoLGp1Y0DcpqF3AQ=']\n"
     ]
    }
   ],
   "source": [
    "# print few keys\n",
    "print(list(data.keys()))\n",
    "\n",
    "# print few values in reviews\n",
    "print(list(data['reviews'])[:2])\n",
    "print(list(data['query_summary'])[:2])\n",
    "print(list(data['cursors'])[:2])\n"
   ]
  },
  {
   "cell_type": "code",
   "execution_count": 9,
   "metadata": {},
   "outputs": [],
   "source": [
    "# Extract 'review' and 'votes_funny' from each review\n",
    "reviews = []\n",
    "votes_funny = []\n",
    "for review_id, review_data in data['reviews'].items():\n",
    "    reviews.append(review_data['review'])\n",
    "    votes_funny.append(review_data['votes_funny'])"
   ]
  },
  {
   "cell_type": "code",
   "execution_count": 22,
   "metadata": {},
   "outputs": [
    {
     "data": {
      "text/html": [
       "<div>\n",
       "<style scoped>\n",
       "    .dataframe tbody tr th:only-of-type {\n",
       "        vertical-align: middle;\n",
       "    }\n",
       "\n",
       "    .dataframe tbody tr th {\n",
       "        vertical-align: top;\n",
       "    }\n",
       "\n",
       "    .dataframe thead th {\n",
       "        text-align: right;\n",
       "    }\n",
       "</style>\n",
       "<table border=\"1\" class=\"dataframe\">\n",
       "  <thead>\n",
       "    <tr style=\"text-align: right;\">\n",
       "      <th></th>\n",
       "      <th>review</th>\n",
       "      <th>votes_funny</th>\n",
       "    </tr>\n",
       "  </thead>\n",
       "  <tbody>\n",
       "    <tr>\n",
       "      <th>0</th>\n",
       "      <td>↑→↓↓↓</td>\n",
       "      <td>0</td>\n",
       "    </tr>\n",
       "    <tr>\n",
       "      <th>1</th>\n",
       "      <td>Good fun Co Op, worth every penny.</td>\n",
       "      <td>0</td>\n",
       "    </tr>\n",
       "    <tr>\n",
       "      <th>2</th>\n",
       "      <td>Was a little skeptical at first, once i starte...</td>\n",
       "      <td>0</td>\n",
       "    </tr>\n",
       "    <tr>\n",
       "      <th>3</th>\n",
       "      <td>Very democratic</td>\n",
       "      <td>0</td>\n",
       "    </tr>\n",
       "    <tr>\n",
       "      <th>4</th>\n",
       "      <td>ALL FOR DEMOCRACY!!!!</td>\n",
       "      <td>0</td>\n",
       "    </tr>\n",
       "    <tr>\n",
       "      <th>...</th>\n",
       "      <td>...</td>\n",
       "      <td>...</td>\n",
       "    </tr>\n",
       "    <tr>\n",
       "      <th>189595</th>\n",
       "      <td>Can't even get past main loading screen anymor...</td>\n",
       "      <td>0</td>\n",
       "    </tr>\n",
       "    <tr>\n",
       "      <th>189596</th>\n",
       "      <td>After multiple patches, the servers seem much ...</td>\n",
       "      <td>0</td>\n",
       "    </tr>\n",
       "    <tr>\n",
       "      <th>189597</th>\n",
       "      <td>Greattt</td>\n",
       "      <td>0</td>\n",
       "    </tr>\n",
       "    <tr>\n",
       "      <th>189598</th>\n",
       "      <td>everything is perfect</td>\n",
       "      <td>0</td>\n",
       "    </tr>\n",
       "    <tr>\n",
       "      <th>189599</th>\n",
       "      <td>SPREAD DEMOCRACY FOR SUPER EARTH!!!!</td>\n",
       "      <td>0</td>\n",
       "    </tr>\n",
       "  </tbody>\n",
       "</table>\n",
       "<p>189600 rows × 2 columns</p>\n",
       "</div>"
      ],
      "text/plain": [
       "                                                   review  votes_funny\n",
       "0                                                   ↑→↓↓↓            0\n",
       "1                      Good fun Co Op, worth every penny.            0\n",
       "2       Was a little skeptical at first, once i starte...            0\n",
       "3                                         Very democratic            0\n",
       "4                                   ALL FOR DEMOCRACY!!!!            0\n",
       "...                                                   ...          ...\n",
       "189595  Can't even get past main loading screen anymor...            0\n",
       "189596  After multiple patches, the servers seem much ...            0\n",
       "189597                                            Greattt            0\n",
       "189598                              everything is perfect            0\n",
       "189599               SPREAD DEMOCRACY FOR SUPER EARTH!!!!            0\n",
       "\n",
       "[189600 rows x 2 columns]"
      ]
     },
     "execution_count": 22,
     "metadata": {},
     "output_type": "execute_result"
    }
   ],
   "source": [
    "\n",
    "# Make pandas dataframe\n",
    "df = pd.DataFrame({'review': reviews, 'votes_funny': votes_funny})\n",
    "df\n"
   ]
  },
  {
   "cell_type": "markdown",
   "metadata": {},
   "source": [
    "# **Cleaning**"
   ]
  },
  {
   "cell_type": "code",
   "execution_count": 23,
   "metadata": {},
   "outputs": [],
   "source": [
    "def clean_text(text):\n",
    "    # Remove emojis\n",
    "    emoji_pattern = re.compile(\"[\"\n",
    "                               u\"\\U0001F600-\\U0001F64F\"  # emoticons\n",
    "                               u\"\\U0001F300-\\U0001F5FF\"  # symbols & pictographs\n",
    "                               u\"\\U0001F680-\\U0001F6FF\"  # transport & map symbols\n",
    "                               u\"\\U0001F1E0-\\U0001F1FF\"  # flags (iOS)\n",
    "                               u\"\\U00002702-\\U000027B0\"\n",
    "                               u\"\\U000024C2-\\U0001F251\"\n",
    "                               \"]+\", flags=re.UNICODE)\n",
    "    text = emoji_pattern.sub(r'', text)\n",
    "\n",
    "    # Remove punctuation\n",
    "    text = re.sub(r'[^\\w\\s]', '', text)\n",
    "\n",
    "    # Convert to lower case\n",
    "    text = text.lower()\n",
    "\n",
    "    return text"
   ]
  },
  {
   "cell_type": "code",
   "execution_count": 26,
   "metadata": {},
   "outputs": [],
   "source": [
    "# Apply the cleaning function to each review\n",
    "df['review'] = df['review'].apply(clean_text)"
   ]
  },
  {
   "cell_type": "code",
   "execution_count": 32,
   "metadata": {},
   "outputs": [
    {
     "data": {
      "text/html": [
       "<div>\n",
       "<style scoped>\n",
       "    .dataframe tbody tr th:only-of-type {\n",
       "        vertical-align: middle;\n",
       "    }\n",
       "\n",
       "    .dataframe tbody tr th {\n",
       "        vertical-align: top;\n",
       "    }\n",
       "\n",
       "    .dataframe thead th {\n",
       "        text-align: right;\n",
       "    }\n",
       "</style>\n",
       "<table border=\"1\" class=\"dataframe\">\n",
       "  <thead>\n",
       "    <tr style=\"text-align: right;\">\n",
       "      <th></th>\n",
       "      <th>review</th>\n",
       "      <th>votes_funny</th>\n",
       "    </tr>\n",
       "  </thead>\n",
       "  <tbody>\n",
       "    <tr>\n",
       "      <th>0</th>\n",
       "      <td></td>\n",
       "      <td>0</td>\n",
       "    </tr>\n",
       "    <tr>\n",
       "      <th>1</th>\n",
       "      <td>good fun co op worth every penny</td>\n",
       "      <td>0</td>\n",
       "    </tr>\n",
       "    <tr>\n",
       "      <th>2</th>\n",
       "      <td>was a little skeptical at first once i started...</td>\n",
       "      <td>0</td>\n",
       "    </tr>\n",
       "    <tr>\n",
       "      <th>3</th>\n",
       "      <td>very democratic</td>\n",
       "      <td>0</td>\n",
       "    </tr>\n",
       "    <tr>\n",
       "      <th>4</th>\n",
       "      <td>all for democracy</td>\n",
       "      <td>0</td>\n",
       "    </tr>\n",
       "    <tr>\n",
       "      <th>...</th>\n",
       "      <td>...</td>\n",
       "      <td>...</td>\n",
       "    </tr>\n",
       "    <tr>\n",
       "      <th>189595</th>\n",
       "      <td>cant even get past main loading screen anymore...</td>\n",
       "      <td>0</td>\n",
       "    </tr>\n",
       "    <tr>\n",
       "      <th>189596</th>\n",
       "      <td>after multiple patches the servers seem much m...</td>\n",
       "      <td>0</td>\n",
       "    </tr>\n",
       "    <tr>\n",
       "      <th>189597</th>\n",
       "      <td>greattt</td>\n",
       "      <td>0</td>\n",
       "    </tr>\n",
       "    <tr>\n",
       "      <th>189598</th>\n",
       "      <td>everything is perfect</td>\n",
       "      <td>0</td>\n",
       "    </tr>\n",
       "    <tr>\n",
       "      <th>189599</th>\n",
       "      <td>spread democracy for super earth</td>\n",
       "      <td>0</td>\n",
       "    </tr>\n",
       "  </tbody>\n",
       "</table>\n",
       "<p>189600 rows × 2 columns</p>\n",
       "</div>"
      ],
      "text/plain": [
       "                                                   review  votes_funny\n",
       "0                                                                    0\n",
       "1                        good fun co op worth every penny            0\n",
       "2       was a little skeptical at first once i started...            0\n",
       "3                                         very democratic            0\n",
       "4                                       all for democracy            0\n",
       "...                                                   ...          ...\n",
       "189595  cant even get past main loading screen anymore...            0\n",
       "189596  after multiple patches the servers seem much m...            0\n",
       "189597                                            greattt            0\n",
       "189598                              everything is perfect            0\n",
       "189599                   spread democracy for super earth            0\n",
       "\n",
       "[189600 rows x 2 columns]"
      ]
     },
     "execution_count": 32,
     "metadata": {},
     "output_type": "execute_result"
    }
   ],
   "source": [
    "df"
   ]
  },
  {
   "cell_type": "markdown",
   "metadata": {},
   "source": [
    "# Preprocessing"
   ]
  },
  {
   "cell_type": "code",
   "execution_count": 33,
   "metadata": {},
   "outputs": [
    {
     "name": "stdout",
     "output_type": "stream",
     "text": [
      "WARNING:tensorflow:From e:\\Mstat\\Deep_Learning\\assignments\\DL-assignments\\.venv\\lib\\site-packages\\keras\\src\\losses.py:2976: The name tf.losses.sparse_softmax_cross_entropy is deprecated. Please use tf.compat.v1.losses.sparse_softmax_cross_entropy instead.\n",
      "\n"
     ]
    }
   ],
   "source": [
    "from keras.preprocessing.text import Tokenizer\n",
    "from keras.preprocessing.sequence import pad_sequences\n",
    "\n",
    "# Tokenize the text\n",
    "tokenizer = Tokenizer(num_words=10000)  # Use the 10,000 most common words\n",
    "tokenizer.fit_on_texts(df['review'])\n",
    "sequences = tokenizer.texts_to_sequences(df['review'])\n",
    "\n",
    "# Pad the sequences\n",
    "padded_sequences = pad_sequences(sequences, maxlen=100)  # Make all reviews 100 words long\n",
    "\n",
    "# Now 'padded_sequences' is a 2D array containing your preprocessed text data"
   ]
  },
  {
   "cell_type": "code",
   "execution_count": 34,
   "metadata": {},
   "outputs": [
    {
     "name": "stdout",
     "output_type": "stream",
     "text": [
      "WARNING:tensorflow:From e:\\Mstat\\Deep_Learning\\assignments\\DL-assignments\\.venv\\lib\\site-packages\\keras\\src\\backend.py:873: The name tf.get_default_graph is deprecated. Please use tf.compat.v1.get_default_graph instead.\n",
      "\n",
      "WARNING:tensorflow:From e:\\Mstat\\Deep_Learning\\assignments\\DL-assignments\\.venv\\lib\\site-packages\\keras\\src\\optimizers\\__init__.py:309: The name tf.train.Optimizer is deprecated. Please use tf.compat.v1.train.Optimizer instead.\n",
      "\n",
      "Epoch 1/10\n",
      "WARNING:tensorflow:From e:\\Mstat\\Deep_Learning\\assignments\\DL-assignments\\.venv\\lib\\site-packages\\keras\\src\\utils\\tf_utils.py:492: The name tf.ragged.RaggedTensorValue is deprecated. Please use tf.compat.v1.ragged.RaggedTensorValue instead.\n",
      "\n",
      "WARNING:tensorflow:From e:\\Mstat\\Deep_Learning\\assignments\\DL-assignments\\.venv\\lib\\site-packages\\keras\\src\\engine\\base_layer_utils.py:384: The name tf.executing_eagerly_outside_functions is deprecated. Please use tf.compat.v1.executing_eagerly_outside_functions instead.\n",
      "\n",
      "948/948 [==============================] - 19s 17ms/step - loss: 0.3684 - accuracy: 0.9654 - val_loss: 0.3451 - val_accuracy: 0.9674\n",
      "Epoch 2/10\n",
      "948/948 [==============================] - 16s 17ms/step - loss: 0.3344 - accuracy: 0.9660 - val_loss: 0.3597 - val_accuracy: 0.9674\n",
      "Epoch 3/10\n",
      "948/948 [==============================] - 16s 17ms/step - loss: 0.3073 - accuracy: 0.9660 - val_loss: 0.3564 - val_accuracy: 0.9674\n",
      "Epoch 4/10\n",
      "948/948 [==============================] - 16s 17ms/step - loss: 0.3182 - accuracy: 0.9659 - val_loss: 0.3651 - val_accuracy: 0.9674\n",
      "Epoch 5/10\n",
      "948/948 [==============================] - 16s 17ms/step - loss: 0.3088 - accuracy: 0.9660 - val_loss: 0.3401 - val_accuracy: 0.9674\n",
      "Epoch 6/10\n",
      "948/948 [==============================] - 16s 17ms/step - loss: 0.3001 - accuracy: 0.9660 - val_loss: 0.3311 - val_accuracy: 0.9674\n",
      "Epoch 7/10\n",
      "948/948 [==============================] - 16s 17ms/step - loss: 0.2987 - accuracy: 0.9660 - val_loss: 0.3281 - val_accuracy: 0.9674\n",
      "Epoch 8/10\n",
      "948/948 [==============================] - 16s 17ms/step - loss: 0.2935 - accuracy: 0.9660 - val_loss: 0.3305 - val_accuracy: 0.9674\n",
      "Epoch 9/10\n",
      "948/948 [==============================] - 16s 17ms/step - loss: 0.2929 - accuracy: 0.9660 - val_loss: 0.3516 - val_accuracy: 0.9674\n",
      "Epoch 10/10\n",
      "948/948 [==============================] - 16s 17ms/step - loss: 0.2685 - accuracy: 0.9659 - val_loss: 0.3192 - val_accuracy: 0.9672\n",
      "1185/1185 [==============================] - 5s 4ms/step - loss: 0.7139 - accuracy: 0.9656\n",
      "Test accuracy: 0.9656118154525757\n"
     ]
    }
   ],
   "source": [
    "from keras.models import Sequential\n",
    "from keras.layers import Embedding, LSTM, Dense\n",
    "from sklearn.model_selection import train_test_split\n",
    "\n",
    "# Split the data\n",
    "X_train, X_test, y_train, y_test = train_test_split(padded_sequences, df['votes_funny'], test_size=0.2, random_state=42)\n",
    "\n",
    "# Build the model\n",
    "model = Sequential()\n",
    "model.add(Embedding(10000, 32, input_length=100))\n",
    "model.add(LSTM(32))\n",
    "model.add(Dense(1, activation='sigmoid'))\n",
    "\n",
    "# Compile the model\n",
    "model.compile(optimizer='rmsprop', loss='binary_crossentropy', metrics=['accuracy'])\n",
    "\n",
    "# Train the model\n",
    "history = model.fit(X_train, y_train, epochs=10, batch_size=128, validation_split=0.2)\n",
    "\n",
    "# Evaluate the model\n",
    "test_loss, test_acc = model.evaluate(X_test, y_test)\n",
    "print('Test accuracy:', test_acc)"
   ]
  },
  {
   "cell_type": "code",
   "execution_count": 39,
   "metadata": {},
   "outputs": [
    {
     "data": {
      "text/plain": [
       "<keras.src.callbacks.History at 0x1f4d5296550>"
      ]
     },
     "execution_count": 39,
     "metadata": {},
     "output_type": "execute_result"
    }
   ],
   "source": [
    "# check if the model is overfitting\n",
    "import matplotlib.pyplot as plt\n",
    "\n",
    "history = model.history\n",
    "history\n",
    "\n",
    "# history is empty because we did not save the history of the model\n"
   ]
  }
 ],
 "metadata": {
  "kernelspec": {
   "display_name": ".venv",
   "language": "python",
   "name": "python3"
  },
  "language_info": {
   "codemirror_mode": {
    "name": "ipython",
    "version": 3
   },
   "file_extension": ".py",
   "mimetype": "text/x-python",
   "name": "python",
   "nbconvert_exporter": "python",
   "pygments_lexer": "ipython3",
   "version": "3.9.13"
  }
 },
 "nbformat": 4,
 "nbformat_minor": 2
}
